{
 "cells": [
  {
   "cell_type": "markdown",
   "id": "e72e4173-75ae-4bcf-8e50-a730ce812e33",
   "metadata": {},
   "source": [
    "# **Group 1 Construct a forward neural network**"
   ]
  },
  {
   "cell_type": "code",
   "execution_count": 1,
   "id": "7aa352f5-bcd0-45f9-911e-53621fff04af",
   "metadata": {
    "tags": []
   },
   "outputs": [],
   "source": [
    "import pandas as pd\n",
    "import numpy as np\n",
    "import matplotlib.pyplot as plt"
   ]
  },
  {
   "cell_type": "code",
   "execution_count": 2,
   "id": "70b9b454-d23a-4229-848c-2bc5f0f1f877",
   "metadata": {
    "tags": []
   },
   "outputs": [
    {
     "data": {
      "text/html": [
       "<div>\n",
       "<style scoped>\n",
       "    .dataframe tbody tr th:only-of-type {\n",
       "        vertical-align: middle;\n",
       "    }\n",
       "\n",
       "    .dataframe tbody tr th {\n",
       "        vertical-align: top;\n",
       "    }\n",
       "\n",
       "    .dataframe thead th {\n",
       "        text-align: right;\n",
       "    }\n",
       "</style>\n",
       "<table border=\"1\" class=\"dataframe\">\n",
       "  <thead>\n",
       "    <tr style=\"text-align: right;\">\n",
       "      <th></th>\n",
       "      <th>gender</th>\n",
       "      <th>age</th>\n",
       "      <th>hypertension</th>\n",
       "      <th>heart_disease</th>\n",
       "      <th>smoking_history</th>\n",
       "      <th>bmi</th>\n",
       "      <th>HbA1c_level</th>\n",
       "      <th>blood_glucose_level</th>\n",
       "      <th>diabetes</th>\n",
       "    </tr>\n",
       "  </thead>\n",
       "  <tbody>\n",
       "    <tr>\n",
       "      <th>0</th>\n",
       "      <td>Female</td>\n",
       "      <td>80.0</td>\n",
       "      <td>0</td>\n",
       "      <td>1</td>\n",
       "      <td>never</td>\n",
       "      <td>25.19</td>\n",
       "      <td>6.6</td>\n",
       "      <td>140</td>\n",
       "      <td>0</td>\n",
       "    </tr>\n",
       "    <tr>\n",
       "      <th>1</th>\n",
       "      <td>Female</td>\n",
       "      <td>54.0</td>\n",
       "      <td>0</td>\n",
       "      <td>0</td>\n",
       "      <td>No Info</td>\n",
       "      <td>27.32</td>\n",
       "      <td>6.6</td>\n",
       "      <td>80</td>\n",
       "      <td>0</td>\n",
       "    </tr>\n",
       "    <tr>\n",
       "      <th>2</th>\n",
       "      <td>Male</td>\n",
       "      <td>28.0</td>\n",
       "      <td>0</td>\n",
       "      <td>0</td>\n",
       "      <td>never</td>\n",
       "      <td>27.32</td>\n",
       "      <td>5.7</td>\n",
       "      <td>158</td>\n",
       "      <td>0</td>\n",
       "    </tr>\n",
       "    <tr>\n",
       "      <th>3</th>\n",
       "      <td>Female</td>\n",
       "      <td>36.0</td>\n",
       "      <td>0</td>\n",
       "      <td>0</td>\n",
       "      <td>current</td>\n",
       "      <td>23.45</td>\n",
       "      <td>5.0</td>\n",
       "      <td>155</td>\n",
       "      <td>0</td>\n",
       "    </tr>\n",
       "    <tr>\n",
       "      <th>4</th>\n",
       "      <td>Male</td>\n",
       "      <td>76.0</td>\n",
       "      <td>1</td>\n",
       "      <td>1</td>\n",
       "      <td>current</td>\n",
       "      <td>20.14</td>\n",
       "      <td>4.8</td>\n",
       "      <td>155</td>\n",
       "      <td>0</td>\n",
       "    </tr>\n",
       "    <tr>\n",
       "      <th>...</th>\n",
       "      <td>...</td>\n",
       "      <td>...</td>\n",
       "      <td>...</td>\n",
       "      <td>...</td>\n",
       "      <td>...</td>\n",
       "      <td>...</td>\n",
       "      <td>...</td>\n",
       "      <td>...</td>\n",
       "      <td>...</td>\n",
       "    </tr>\n",
       "    <tr>\n",
       "      <th>99995</th>\n",
       "      <td>Female</td>\n",
       "      <td>80.0</td>\n",
       "      <td>0</td>\n",
       "      <td>0</td>\n",
       "      <td>No Info</td>\n",
       "      <td>27.32</td>\n",
       "      <td>6.2</td>\n",
       "      <td>90</td>\n",
       "      <td>0</td>\n",
       "    </tr>\n",
       "    <tr>\n",
       "      <th>99996</th>\n",
       "      <td>Female</td>\n",
       "      <td>2.0</td>\n",
       "      <td>0</td>\n",
       "      <td>0</td>\n",
       "      <td>No Info</td>\n",
       "      <td>17.37</td>\n",
       "      <td>6.5</td>\n",
       "      <td>100</td>\n",
       "      <td>0</td>\n",
       "    </tr>\n",
       "    <tr>\n",
       "      <th>99997</th>\n",
       "      <td>Male</td>\n",
       "      <td>66.0</td>\n",
       "      <td>0</td>\n",
       "      <td>0</td>\n",
       "      <td>former</td>\n",
       "      <td>27.83</td>\n",
       "      <td>5.7</td>\n",
       "      <td>155</td>\n",
       "      <td>0</td>\n",
       "    </tr>\n",
       "    <tr>\n",
       "      <th>99998</th>\n",
       "      <td>Female</td>\n",
       "      <td>24.0</td>\n",
       "      <td>0</td>\n",
       "      <td>0</td>\n",
       "      <td>never</td>\n",
       "      <td>35.42</td>\n",
       "      <td>4.0</td>\n",
       "      <td>100</td>\n",
       "      <td>0</td>\n",
       "    </tr>\n",
       "    <tr>\n",
       "      <th>99999</th>\n",
       "      <td>Female</td>\n",
       "      <td>57.0</td>\n",
       "      <td>0</td>\n",
       "      <td>0</td>\n",
       "      <td>current</td>\n",
       "      <td>22.43</td>\n",
       "      <td>6.6</td>\n",
       "      <td>90</td>\n",
       "      <td>0</td>\n",
       "    </tr>\n",
       "  </tbody>\n",
       "</table>\n",
       "<p>100000 rows × 9 columns</p>\n",
       "</div>"
      ],
      "text/plain": [
       "       gender   age  hypertension  heart_disease smoking_history    bmi  \\\n",
       "0      Female  80.0             0              1           never  25.19   \n",
       "1      Female  54.0             0              0         No Info  27.32   \n",
       "2        Male  28.0             0              0           never  27.32   \n",
       "3      Female  36.0             0              0         current  23.45   \n",
       "4        Male  76.0             1              1         current  20.14   \n",
       "...       ...   ...           ...            ...             ...    ...   \n",
       "99995  Female  80.0             0              0         No Info  27.32   \n",
       "99996  Female   2.0             0              0         No Info  17.37   \n",
       "99997    Male  66.0             0              0          former  27.83   \n",
       "99998  Female  24.0             0              0           never  35.42   \n",
       "99999  Female  57.0             0              0         current  22.43   \n",
       "\n",
       "       HbA1c_level  blood_glucose_level  diabetes  \n",
       "0              6.6                  140         0  \n",
       "1              6.6                   80         0  \n",
       "2              5.7                  158         0  \n",
       "3              5.0                  155         0  \n",
       "4              4.8                  155         0  \n",
       "...            ...                  ...       ...  \n",
       "99995          6.2                   90         0  \n",
       "99996          6.5                  100         0  \n",
       "99997          5.7                  155         0  \n",
       "99998          4.0                  100         0  \n",
       "99999          6.6                   90         0  \n",
       "\n",
       "[100000 rows x 9 columns]"
      ]
     },
     "execution_count": 2,
     "metadata": {},
     "output_type": "execute_result"
    }
   ],
   "source": [
    "df = pd.read_csv(r\"D:\\Data Majority\\dataset\\diabetes_prediction_dataset.csv\\diabetes_prediction_dataset.csv\")\n",
    "df"
   ]
  },
  {
   "cell_type": "code",
   "execution_count": 3,
   "id": "2d68a9b1-e3de-479f-95b3-b37e05449a28",
   "metadata": {
    "tags": []
   },
   "outputs": [
    {
     "name": "stdout",
     "output_type": "stream",
     "text": [
      "<class 'pandas.core.frame.DataFrame'>\n",
      "RangeIndex: 100000 entries, 0 to 99999\n",
      "Data columns (total 9 columns):\n",
      " #   Column               Non-Null Count   Dtype  \n",
      "---  ------               --------------   -----  \n",
      " 0   gender               100000 non-null  object \n",
      " 1   age                  100000 non-null  float64\n",
      " 2   hypertension         100000 non-null  int64  \n",
      " 3   heart_disease        100000 non-null  int64  \n",
      " 4   smoking_history      100000 non-null  object \n",
      " 5   bmi                  100000 non-null  float64\n",
      " 6   HbA1c_level          100000 non-null  float64\n",
      " 7   blood_glucose_level  100000 non-null  int64  \n",
      " 8   diabetes             100000 non-null  int64  \n",
      "dtypes: float64(3), int64(4), object(2)\n",
      "memory usage: 6.9+ MB\n"
     ]
    }
   ],
   "source": [
    "df.info()"
   ]
  },
  {
   "cell_type": "code",
   "execution_count": 4,
   "id": "992facc8-e56c-4f17-ab09-a5a5b2826bc4",
   "metadata": {
    "tags": []
   },
   "outputs": [
    {
     "data": {
      "text/plain": [
       "gender                 0\n",
       "age                    0\n",
       "hypertension           0\n",
       "heart_disease          0\n",
       "smoking_history        0\n",
       "bmi                    0\n",
       "HbA1c_level            0\n",
       "blood_glucose_level    0\n",
       "diabetes               0\n",
       "dtype: int64"
      ]
     },
     "execution_count": 4,
     "metadata": {},
     "output_type": "execute_result"
    }
   ],
   "source": [
    "df.isnull().sum()"
   ]
  },
  {
   "cell_type": "code",
   "execution_count": 5,
   "id": "94a95815-8f14-4379-a0f2-81bf797b2b02",
   "metadata": {
    "tags": []
   },
   "outputs": [
    {
     "data": {
      "text/plain": [
       "0    91500\n",
       "1     8500\n",
       "Name: diabetes, dtype: int64"
      ]
     },
     "execution_count": 5,
     "metadata": {},
     "output_type": "execute_result"
    }
   ],
   "source": [
    "df[\"diabetes\"].value_counts()"
   ]
  },
  {
   "cell_type": "code",
   "execution_count": 6,
   "id": "bdd5625b-5886-4c5d-ad11-15fe8e938e93",
   "metadata": {
    "tags": []
   },
   "outputs": [
    {
     "data": {
      "text/plain": [
       "Index(['gender', 'age', 'hypertension', 'heart_disease', 'smoking_history',\n",
       "       'bmi', 'HbA1c_level', 'blood_glucose_level', 'diabetes'],\n",
       "      dtype='object')"
      ]
     },
     "execution_count": 6,
     "metadata": {},
     "output_type": "execute_result"
    }
   ],
   "source": [
    "df.columns"
   ]
  },
  {
   "cell_type": "markdown",
   "id": "b28378bb-26af-4525-becb-434b88648f9c",
   "metadata": {},
   "source": [
    "# Task 1.1 Understanding the data\n",
    "## Step 1\n",
    "1- Describe the target classes for the prediction task. Display 10 training examples from each target class. Do you see any patterns?"
   ]
  },
  {
   "cell_type": "code",
   "execution_count": 7,
   "id": "b2c82a43-150d-4c3b-881f-fd5136cc1365",
   "metadata": {
    "tags": []
   },
   "outputs": [
    {
     "data": {
      "text/html": [
       "<div>\n",
       "<style scoped>\n",
       "    .dataframe tbody tr th:only-of-type {\n",
       "        vertical-align: middle;\n",
       "    }\n",
       "\n",
       "    .dataframe tbody tr th {\n",
       "        vertical-align: top;\n",
       "    }\n",
       "\n",
       "    .dataframe thead th {\n",
       "        text-align: right;\n",
       "    }\n",
       "</style>\n",
       "<table border=\"1\" class=\"dataframe\">\n",
       "  <thead>\n",
       "    <tr style=\"text-align: right;\">\n",
       "      <th></th>\n",
       "      <th>gender</th>\n",
       "      <th>age</th>\n",
       "      <th>hypertension</th>\n",
       "      <th>heart_disease</th>\n",
       "      <th>smoking_history</th>\n",
       "      <th>bmi</th>\n",
       "      <th>HbA1c_level</th>\n",
       "      <th>blood_glucose_level</th>\n",
       "      <th>diabetes</th>\n",
       "    </tr>\n",
       "  </thead>\n",
       "  <tbody>\n",
       "    <tr>\n",
       "      <th>6</th>\n",
       "      <td>Female</td>\n",
       "      <td>44.0</td>\n",
       "      <td>0</td>\n",
       "      <td>0</td>\n",
       "      <td>never</td>\n",
       "      <td>19.31</td>\n",
       "      <td>6.5</td>\n",
       "      <td>200</td>\n",
       "      <td>1</td>\n",
       "    </tr>\n",
       "    <tr>\n",
       "      <th>26</th>\n",
       "      <td>Male</td>\n",
       "      <td>67.0</td>\n",
       "      <td>0</td>\n",
       "      <td>1</td>\n",
       "      <td>not current</td>\n",
       "      <td>27.32</td>\n",
       "      <td>6.5</td>\n",
       "      <td>200</td>\n",
       "      <td>1</td>\n",
       "    </tr>\n",
       "    <tr>\n",
       "      <th>38</th>\n",
       "      <td>Male</td>\n",
       "      <td>50.0</td>\n",
       "      <td>1</td>\n",
       "      <td>0</td>\n",
       "      <td>current</td>\n",
       "      <td>27.32</td>\n",
       "      <td>5.7</td>\n",
       "      <td>260</td>\n",
       "      <td>1</td>\n",
       "    </tr>\n",
       "    <tr>\n",
       "      <th>40</th>\n",
       "      <td>Male</td>\n",
       "      <td>73.0</td>\n",
       "      <td>0</td>\n",
       "      <td>0</td>\n",
       "      <td>former</td>\n",
       "      <td>25.91</td>\n",
       "      <td>9.0</td>\n",
       "      <td>160</td>\n",
       "      <td>1</td>\n",
       "    </tr>\n",
       "    <tr>\n",
       "      <th>53</th>\n",
       "      <td>Female</td>\n",
       "      <td>53.0</td>\n",
       "      <td>0</td>\n",
       "      <td>0</td>\n",
       "      <td>former</td>\n",
       "      <td>27.32</td>\n",
       "      <td>7.0</td>\n",
       "      <td>159</td>\n",
       "      <td>1</td>\n",
       "    </tr>\n",
       "    <tr>\n",
       "      <th>55</th>\n",
       "      <td>Male</td>\n",
       "      <td>50.0</td>\n",
       "      <td>0</td>\n",
       "      <td>0</td>\n",
       "      <td>former</td>\n",
       "      <td>37.16</td>\n",
       "      <td>9.0</td>\n",
       "      <td>159</td>\n",
       "      <td>1</td>\n",
       "    </tr>\n",
       "    <tr>\n",
       "      <th>59</th>\n",
       "      <td>Female</td>\n",
       "      <td>67.0</td>\n",
       "      <td>0</td>\n",
       "      <td>0</td>\n",
       "      <td>never</td>\n",
       "      <td>63.48</td>\n",
       "      <td>8.8</td>\n",
       "      <td>155</td>\n",
       "      <td>1</td>\n",
       "    </tr>\n",
       "    <tr>\n",
       "      <th>81</th>\n",
       "      <td>Male</td>\n",
       "      <td>57.0</td>\n",
       "      <td>0</td>\n",
       "      <td>0</td>\n",
       "      <td>No Info</td>\n",
       "      <td>27.32</td>\n",
       "      <td>8.2</td>\n",
       "      <td>126</td>\n",
       "      <td>1</td>\n",
       "    </tr>\n",
       "    <tr>\n",
       "      <th>87</th>\n",
       "      <td>Female</td>\n",
       "      <td>36.0</td>\n",
       "      <td>0</td>\n",
       "      <td>0</td>\n",
       "      <td>current</td>\n",
       "      <td>32.27</td>\n",
       "      <td>6.2</td>\n",
       "      <td>220</td>\n",
       "      <td>1</td>\n",
       "    </tr>\n",
       "    <tr>\n",
       "      <th>94</th>\n",
       "      <td>Female</td>\n",
       "      <td>60.0</td>\n",
       "      <td>0</td>\n",
       "      <td>0</td>\n",
       "      <td>never</td>\n",
       "      <td>27.32</td>\n",
       "      <td>7.5</td>\n",
       "      <td>300</td>\n",
       "      <td>1</td>\n",
       "    </tr>\n",
       "  </tbody>\n",
       "</table>\n",
       "</div>"
      ],
      "text/plain": [
       "    gender   age  hypertension  heart_disease smoking_history    bmi  \\\n",
       "6   Female  44.0             0              0           never  19.31   \n",
       "26    Male  67.0             0              1     not current  27.32   \n",
       "38    Male  50.0             1              0         current  27.32   \n",
       "40    Male  73.0             0              0          former  25.91   \n",
       "53  Female  53.0             0              0          former  27.32   \n",
       "55    Male  50.0             0              0          former  37.16   \n",
       "59  Female  67.0             0              0           never  63.48   \n",
       "81    Male  57.0             0              0         No Info  27.32   \n",
       "87  Female  36.0             0              0         current  32.27   \n",
       "94  Female  60.0             0              0           never  27.32   \n",
       "\n",
       "    HbA1c_level  blood_glucose_level  diabetes  \n",
       "6           6.5                  200         1  \n",
       "26          6.5                  200         1  \n",
       "38          5.7                  260         1  \n",
       "40          9.0                  160         1  \n",
       "53          7.0                  159         1  \n",
       "55          9.0                  159         1  \n",
       "59          8.8                  155         1  \n",
       "81          8.2                  126         1  \n",
       "87          6.2                  220         1  \n",
       "94          7.5                  300         1  "
      ]
     },
     "execution_count": 7,
     "metadata": {},
     "output_type": "execute_result"
    }
   ],
   "source": [
    "'''as we know our target class is diabetes and which have only two class\n",
    "0 and 1 which means 0 mean negative and 1 means positive '''\n",
    "# here is the breakdown of target class according their values\n",
    "diabetes_1 = df[df[\"diabetes\"] == 1 ].head(10)\n",
    "diabetes_1\n"
   ]
  },
  {
   "cell_type": "code",
   "execution_count": 8,
   "id": "800137f2-376a-4fa2-9dfc-295c08037e94",
   "metadata": {
    "tags": []
   },
   "outputs": [
    {
     "data": {
      "text/html": [
       "<div>\n",
       "<style scoped>\n",
       "    .dataframe tbody tr th:only-of-type {\n",
       "        vertical-align: middle;\n",
       "    }\n",
       "\n",
       "    .dataframe tbody tr th {\n",
       "        vertical-align: top;\n",
       "    }\n",
       "\n",
       "    .dataframe thead th {\n",
       "        text-align: right;\n",
       "    }\n",
       "</style>\n",
       "<table border=\"1\" class=\"dataframe\">\n",
       "  <thead>\n",
       "    <tr style=\"text-align: right;\">\n",
       "      <th></th>\n",
       "      <th>gender</th>\n",
       "      <th>age</th>\n",
       "      <th>hypertension</th>\n",
       "      <th>heart_disease</th>\n",
       "      <th>smoking_history</th>\n",
       "      <th>bmi</th>\n",
       "      <th>HbA1c_level</th>\n",
       "      <th>blood_glucose_level</th>\n",
       "      <th>diabetes</th>\n",
       "    </tr>\n",
       "  </thead>\n",
       "  <tbody>\n",
       "    <tr>\n",
       "      <th>0</th>\n",
       "      <td>Female</td>\n",
       "      <td>80.0</td>\n",
       "      <td>0</td>\n",
       "      <td>1</td>\n",
       "      <td>never</td>\n",
       "      <td>25.19</td>\n",
       "      <td>6.6</td>\n",
       "      <td>140</td>\n",
       "      <td>0</td>\n",
       "    </tr>\n",
       "    <tr>\n",
       "      <th>1</th>\n",
       "      <td>Female</td>\n",
       "      <td>54.0</td>\n",
       "      <td>0</td>\n",
       "      <td>0</td>\n",
       "      <td>No Info</td>\n",
       "      <td>27.32</td>\n",
       "      <td>6.6</td>\n",
       "      <td>80</td>\n",
       "      <td>0</td>\n",
       "    </tr>\n",
       "    <tr>\n",
       "      <th>2</th>\n",
       "      <td>Male</td>\n",
       "      <td>28.0</td>\n",
       "      <td>0</td>\n",
       "      <td>0</td>\n",
       "      <td>never</td>\n",
       "      <td>27.32</td>\n",
       "      <td>5.7</td>\n",
       "      <td>158</td>\n",
       "      <td>0</td>\n",
       "    </tr>\n",
       "    <tr>\n",
       "      <th>3</th>\n",
       "      <td>Female</td>\n",
       "      <td>36.0</td>\n",
       "      <td>0</td>\n",
       "      <td>0</td>\n",
       "      <td>current</td>\n",
       "      <td>23.45</td>\n",
       "      <td>5.0</td>\n",
       "      <td>155</td>\n",
       "      <td>0</td>\n",
       "    </tr>\n",
       "    <tr>\n",
       "      <th>4</th>\n",
       "      <td>Male</td>\n",
       "      <td>76.0</td>\n",
       "      <td>1</td>\n",
       "      <td>1</td>\n",
       "      <td>current</td>\n",
       "      <td>20.14</td>\n",
       "      <td>4.8</td>\n",
       "      <td>155</td>\n",
       "      <td>0</td>\n",
       "    </tr>\n",
       "    <tr>\n",
       "      <th>5</th>\n",
       "      <td>Female</td>\n",
       "      <td>20.0</td>\n",
       "      <td>0</td>\n",
       "      <td>0</td>\n",
       "      <td>never</td>\n",
       "      <td>27.32</td>\n",
       "      <td>6.6</td>\n",
       "      <td>85</td>\n",
       "      <td>0</td>\n",
       "    </tr>\n",
       "    <tr>\n",
       "      <th>7</th>\n",
       "      <td>Female</td>\n",
       "      <td>79.0</td>\n",
       "      <td>0</td>\n",
       "      <td>0</td>\n",
       "      <td>No Info</td>\n",
       "      <td>23.86</td>\n",
       "      <td>5.7</td>\n",
       "      <td>85</td>\n",
       "      <td>0</td>\n",
       "    </tr>\n",
       "    <tr>\n",
       "      <th>8</th>\n",
       "      <td>Male</td>\n",
       "      <td>42.0</td>\n",
       "      <td>0</td>\n",
       "      <td>0</td>\n",
       "      <td>never</td>\n",
       "      <td>33.64</td>\n",
       "      <td>4.8</td>\n",
       "      <td>145</td>\n",
       "      <td>0</td>\n",
       "    </tr>\n",
       "    <tr>\n",
       "      <th>9</th>\n",
       "      <td>Female</td>\n",
       "      <td>32.0</td>\n",
       "      <td>0</td>\n",
       "      <td>0</td>\n",
       "      <td>never</td>\n",
       "      <td>27.32</td>\n",
       "      <td>5.0</td>\n",
       "      <td>100</td>\n",
       "      <td>0</td>\n",
       "    </tr>\n",
       "    <tr>\n",
       "      <th>10</th>\n",
       "      <td>Female</td>\n",
       "      <td>53.0</td>\n",
       "      <td>0</td>\n",
       "      <td>0</td>\n",
       "      <td>never</td>\n",
       "      <td>27.32</td>\n",
       "      <td>6.1</td>\n",
       "      <td>85</td>\n",
       "      <td>0</td>\n",
       "    </tr>\n",
       "  </tbody>\n",
       "</table>\n",
       "</div>"
      ],
      "text/plain": [
       "    gender   age  hypertension  heart_disease smoking_history    bmi  \\\n",
       "0   Female  80.0             0              1           never  25.19   \n",
       "1   Female  54.0             0              0         No Info  27.32   \n",
       "2     Male  28.0             0              0           never  27.32   \n",
       "3   Female  36.0             0              0         current  23.45   \n",
       "4     Male  76.0             1              1         current  20.14   \n",
       "5   Female  20.0             0              0           never  27.32   \n",
       "7   Female  79.0             0              0         No Info  23.86   \n",
       "8     Male  42.0             0              0           never  33.64   \n",
       "9   Female  32.0             0              0           never  27.32   \n",
       "10  Female  53.0             0              0           never  27.32   \n",
       "\n",
       "    HbA1c_level  blood_glucose_level  diabetes  \n",
       "0           6.6                  140         0  \n",
       "1           6.6                   80         0  \n",
       "2           5.7                  158         0  \n",
       "3           5.0                  155         0  \n",
       "4           4.8                  155         0  \n",
       "5           6.6                   85         0  \n",
       "7           5.7                   85         0  \n",
       "8           4.8                  145         0  \n",
       "9           5.0                  100         0  \n",
       "10          6.1                   85         0  "
      ]
     },
     "execution_count": 8,
     "metadata": {},
     "output_type": "execute_result"
    }
   ],
   "source": [
    "diabetes_0 = df[df[\"diabetes\"] == 0].head(10)\n",
    "diabetes_0"
   ]
  },
  {
   "cell_type": "markdown",
   "id": "76be1d85-c602-41e3-87d5-a890603e9ca2",
   "metadata": {},
   "source": [
    "# Step 2\n",
    "2- Describe the data types of each feature. What preprocessing steps are required? Why?"
   ]
  },
  {
   "cell_type": "code",
   "execution_count": 9,
   "id": "1f590d32-0b1e-4479-8e59-459ec57ed3d9",
   "metadata": {
    "tags": []
   },
   "outputs": [
    {
     "name": "stdout",
     "output_type": "stream",
     "text": [
      "<class 'pandas.core.frame.DataFrame'>\n",
      "RangeIndex: 100000 entries, 0 to 99999\n",
      "Data columns (total 9 columns):\n",
      " #   Column               Non-Null Count   Dtype  \n",
      "---  ------               --------------   -----  \n",
      " 0   gender               100000 non-null  object \n",
      " 1   age                  100000 non-null  float64\n",
      " 2   hypertension         100000 non-null  int64  \n",
      " 3   heart_disease        100000 non-null  int64  \n",
      " 4   smoking_history      100000 non-null  object \n",
      " 5   bmi                  100000 non-null  float64\n",
      " 6   HbA1c_level          100000 non-null  float64\n",
      " 7   blood_glucose_level  100000 non-null  int64  \n",
      " 8   diabetes             100000 non-null  int64  \n",
      "dtypes: float64(3), int64(4), object(2)\n",
      "memory usage: 6.9+ MB\n"
     ]
    }
   ],
   "source": [
    "df.info()"
   ]
  },
  {
   "cell_type": "code",
   "execution_count": 10,
   "id": "0e5424cf-eab0-4438-a7f7-91deade377b0",
   "metadata": {
    "tags": []
   },
   "outputs": [
    {
     "data": {
      "text/plain": [
       "gender                 0\n",
       "age                    0\n",
       "hypertension           0\n",
       "heart_disease          0\n",
       "smoking_history        0\n",
       "bmi                    0\n",
       "HbA1c_level            0\n",
       "blood_glucose_level    0\n",
       "diabetes               0\n",
       "dtype: int64"
      ]
     },
     "execution_count": 10,
     "metadata": {},
     "output_type": "execute_result"
    }
   ],
   "source": [
    "\"\"\" the preprocessing step required for this dataset because its help to clean our data and our \n",
    "prediction performance goes towards good so i can use some steps for preprocessing \"\"\"\n",
    "df.isnull().sum() # there is no null values in this dataset"
   ]
  },
  {
   "cell_type": "code",
   "execution_count": 11,
   "id": "e6a941ab-d9dc-4ec8-b218-f081090a1188",
   "metadata": {
    "tags": []
   },
   "outputs": [
    {
     "data": {
      "text/html": [
       "<div>\n",
       "<style scoped>\n",
       "    .dataframe tbody tr th:only-of-type {\n",
       "        vertical-align: middle;\n",
       "    }\n",
       "\n",
       "    .dataframe tbody tr th {\n",
       "        vertical-align: top;\n",
       "    }\n",
       "\n",
       "    .dataframe thead th {\n",
       "        text-align: right;\n",
       "    }\n",
       "</style>\n",
       "<table border=\"1\" class=\"dataframe\">\n",
       "  <thead>\n",
       "    <tr style=\"text-align: right;\">\n",
       "      <th></th>\n",
       "      <th>age</th>\n",
       "      <th>hypertension</th>\n",
       "      <th>heart_disease</th>\n",
       "      <th>bmi</th>\n",
       "      <th>HbA1c_level</th>\n",
       "      <th>blood_glucose_level</th>\n",
       "      <th>diabetes</th>\n",
       "    </tr>\n",
       "  </thead>\n",
       "  <tbody>\n",
       "    <tr>\n",
       "      <th>count</th>\n",
       "      <td>100000.000000</td>\n",
       "      <td>100000.00000</td>\n",
       "      <td>100000.000000</td>\n",
       "      <td>100000.000000</td>\n",
       "      <td>100000.000000</td>\n",
       "      <td>100000.000000</td>\n",
       "      <td>100000.000000</td>\n",
       "    </tr>\n",
       "    <tr>\n",
       "      <th>mean</th>\n",
       "      <td>41.885856</td>\n",
       "      <td>0.07485</td>\n",
       "      <td>0.039420</td>\n",
       "      <td>27.320767</td>\n",
       "      <td>5.527507</td>\n",
       "      <td>138.058060</td>\n",
       "      <td>0.085000</td>\n",
       "    </tr>\n",
       "    <tr>\n",
       "      <th>std</th>\n",
       "      <td>22.516840</td>\n",
       "      <td>0.26315</td>\n",
       "      <td>0.194593</td>\n",
       "      <td>6.636783</td>\n",
       "      <td>1.070672</td>\n",
       "      <td>40.708136</td>\n",
       "      <td>0.278883</td>\n",
       "    </tr>\n",
       "    <tr>\n",
       "      <th>min</th>\n",
       "      <td>0.080000</td>\n",
       "      <td>0.00000</td>\n",
       "      <td>0.000000</td>\n",
       "      <td>10.010000</td>\n",
       "      <td>3.500000</td>\n",
       "      <td>80.000000</td>\n",
       "      <td>0.000000</td>\n",
       "    </tr>\n",
       "    <tr>\n",
       "      <th>25%</th>\n",
       "      <td>24.000000</td>\n",
       "      <td>0.00000</td>\n",
       "      <td>0.000000</td>\n",
       "      <td>23.630000</td>\n",
       "      <td>4.800000</td>\n",
       "      <td>100.000000</td>\n",
       "      <td>0.000000</td>\n",
       "    </tr>\n",
       "    <tr>\n",
       "      <th>50%</th>\n",
       "      <td>43.000000</td>\n",
       "      <td>0.00000</td>\n",
       "      <td>0.000000</td>\n",
       "      <td>27.320000</td>\n",
       "      <td>5.800000</td>\n",
       "      <td>140.000000</td>\n",
       "      <td>0.000000</td>\n",
       "    </tr>\n",
       "    <tr>\n",
       "      <th>75%</th>\n",
       "      <td>60.000000</td>\n",
       "      <td>0.00000</td>\n",
       "      <td>0.000000</td>\n",
       "      <td>29.580000</td>\n",
       "      <td>6.200000</td>\n",
       "      <td>159.000000</td>\n",
       "      <td>0.000000</td>\n",
       "    </tr>\n",
       "    <tr>\n",
       "      <th>max</th>\n",
       "      <td>80.000000</td>\n",
       "      <td>1.00000</td>\n",
       "      <td>1.000000</td>\n",
       "      <td>95.690000</td>\n",
       "      <td>9.000000</td>\n",
       "      <td>300.000000</td>\n",
       "      <td>1.000000</td>\n",
       "    </tr>\n",
       "  </tbody>\n",
       "</table>\n",
       "</div>"
      ],
      "text/plain": [
       "                 age  hypertension  heart_disease            bmi  \\\n",
       "count  100000.000000  100000.00000  100000.000000  100000.000000   \n",
       "mean       41.885856       0.07485       0.039420      27.320767   \n",
       "std        22.516840       0.26315       0.194593       6.636783   \n",
       "min         0.080000       0.00000       0.000000      10.010000   \n",
       "25%        24.000000       0.00000       0.000000      23.630000   \n",
       "50%        43.000000       0.00000       0.000000      27.320000   \n",
       "75%        60.000000       0.00000       0.000000      29.580000   \n",
       "max        80.000000       1.00000       1.000000      95.690000   \n",
       "\n",
       "         HbA1c_level  blood_glucose_level       diabetes  \n",
       "count  100000.000000        100000.000000  100000.000000  \n",
       "mean        5.527507           138.058060       0.085000  \n",
       "std         1.070672            40.708136       0.278883  \n",
       "min         3.500000            80.000000       0.000000  \n",
       "25%         4.800000           100.000000       0.000000  \n",
       "50%         5.800000           140.000000       0.000000  \n",
       "75%         6.200000           159.000000       0.000000  \n",
       "max         9.000000           300.000000       1.000000  "
      ]
     },
     "execution_count": 11,
     "metadata": {},
     "output_type": "execute_result"
    }
   ],
   "source": [
    "df.describe()"
   ]
  },
  {
   "cell_type": "code",
   "execution_count": 12,
   "id": "57a49ac8-6c65-413f-a627-26e78fae799a",
   "metadata": {
    "tags": []
   },
   "outputs": [
    {
     "data": {
      "image/png": "[encoded data removed]",
      "text/plain": [
       "<Figure size 1200x800 with 1 Axes>"
      ]
     },
     "metadata": {},
     "output_type": "display_data"
    }
   ],
   "source": [
    "# Select the columns/features you want to create box plots for (excluding non-numeric columns)\n",
    "numeric_columns = df.select_dtypes(include=['float64', 'int64'])\n",
    "\n",
    "# Create box plots for each numeric column\n",
    "plt.figure(figsize=(12, 8))\n",
    "numeric_columns.boxplot()\n",
    "plt.title('Box Plot for Features')\n",
    "plt.xticks(rotation=45)\n",
    "plt.show()"
   ]
  },
  {
   "cell_type": "code",
   "execution_count": 13,
   "id": "d1b35f95-1f45-4308-b7fb-f07b57b4ba20",
   "metadata": {
    "tags": []
   },
   "outputs": [
    {
     "data": {
      "text/plain": [
       "' as you can see in above box plot there is no outliers in this dataset so we dont need \\nto preprocess our data its already clean and ready for testing '"
      ]
     },
     "execution_count": 13,
     "metadata": {},
     "output_type": "execute_result"
    }
   ],
   "source": [
    "''' as you can see in above box plot there is no outliers in this dataset so we dont need \n",
    "to preprocess our data its already clean and ready for testing '''"
   ]
  },
  {
   "cell_type": "markdown",
   "id": "a563759e-af46-4f45-8555-75bdc56c63e0",
   "metadata": {},
   "source": [
    "# Step 3 \n",
    "3 - Prepare the data for learning a neural network, including creating training, validation, and test datasets. How many training examples and how many test examples are you using?"
   ]
  },
  {
   "cell_type": "code",
   "execution_count": 14,
   "id": "6f873ba3-ed8d-4188-acac-76cad97ac8e9",
   "metadata": {
    "tags": []
   },
   "outputs": [],
   "source": [
    "# our features X and target y \n",
    "X = df.drop(\"diabetes\", axis=1)\n",
    "y = df[\"diabetes\"]"
   ]
  },
  {
   "cell_type": "code",
   "execution_count": 15,
   "id": "3dbb2500-39da-436b-b8c0-5c6ac20e2a6e",
   "metadata": {
    "tags": []
   },
   "outputs": [],
   "source": [
    "# normalize the feature using standard scaler\n",
    "# import necessary library \n",
    "from sklearn.preprocessing import StandardScaler,OneHotEncoder\n",
    "from sklearn.compose import ColumnTransformer\n",
    "from sklearn.model_selection import train_test_split"
   ]
  },
  {
   "cell_type": "code",
   "execution_count": 16,
   "id": "2317b4bf-0c11-4275-99b6-61a1e243d53d",
   "metadata": {
    "tags": []
   },
   "outputs": [],
   "source": [
    "# Select categorical columns\n",
    "categorical_cols = ['gender', 'smoking_history']\n",
    "\n",
    "# Select numeric columns\n",
    "numeric_cols = X.columns.difference(categorical_cols)\n",
    "\n",
    "# Preprocessing using ColumnTransformer\n",
    "preprocessor = ColumnTransformer(\n",
    "    transformers=[\n",
    "        ('num', StandardScaler(), numeric_cols),\n",
    "        ('cat', OneHotEncoder(), categorical_cols)\n",
    "    ])"
   ]
  },
  {
   "cell_type": "code",
   "execution_count": 17,
   "id": "06a8136b-856c-4688-99c7-d4cbe1bbd891",
   "metadata": {
    "tags": []
   },
   "outputs": [],
   "source": [
    "# Transform the data\n",
    "X_transformed = preprocessor.fit_transform(X)"
   ]
  },
  {
   "cell_type": "markdown",
   "id": "1ef107b2-eddb-4ba7-9055-d84be2018ddb",
   "metadata": {},
   "source": [
    "80-10-10 split for train-validation-test sets. This means 80% of the data will be used for training, and 10% each for validation and testing."
   ]
  },
  {
   "cell_type": "code",
   "execution_count": 18,
   "id": "e30254bf-188d-46d4-8176-25f0766d0476",
   "metadata": {
    "tags": []
   },
   "outputs": [],
   "source": [
    "# Split data into training, validation, and test sets\n",
    "X_train, X_temp, y_train, y_temp = train_test_split(X_transformed, y, test_size=0.2, random_state=42)\n",
    "X_val, X_test, y_val, y_test = train_test_split(X_temp, y_temp, test_size=0.5, random_state=42)\n"
   ]
  },
  {
   "cell_type": "code",
   "execution_count": 19,
   "id": "d411a332-f3ca-4739-bcc5-cb21193e041d",
   "metadata": {
    "tags": []
   },
   "outputs": [
    {
     "name": "stdout",
     "output_type": "stream",
     "text": [
      "Number of training examples: 80000\n",
      "Number of validation examples: 10000\n",
      "Number of test examples: 10000\n"
     ]
    }
   ],
   "source": [
    "# Print the number of examples in each set\n",
    "print(\"Number of training examples:\", len(X_train))\n",
    "print(\"Number of validation examples:\", len(X_val))\n",
    "print(\"Number of test examples:\", len(X_test))"
   ]
  },
  {
   "cell_type": "markdown",
   "id": "43ad20e7-4058-473a-8420-d534d76cb70d",
   "metadata": {},
   "source": [
    "# Task 1.2 Setting up a model for training\n",
    "# Model Design:\n",
    "## Input Layer:\n",
    "\n",
    "- Input Size: \n",
    "This should match the number of features in your dataset, which is 8 (excluding the 'gender' and 'smoking_history' categorical features after one-hot encoding).\n",
    "\n",
    "- Reshaping:\n",
    "You don't need to reshape the input as long as you've already preprocessed and transformed the data into the appropriate format.\n",
    "\n",
    "## Hidden Layers:\n",
    "- Number of Hidden Layers: 2 hidden layers.\n",
    "- Number of Nodes in Each Hidden Layer: For this example, let's use 64 nodes in the first hidden layer and 32 nodes in the second hidden layer.\n",
    "\n",
    "## Activation Function for Hidden Layers: \n",
    "- ReLU (Rectified Linear Activation) is commonly used for hidden layers.\n",
    "\n",
    "## Output Layer:\n",
    "- Number of Output Nodes: 1 output node (binary classification for diabetes prediction).\n",
    "- Activation Function: Sigmoid activation function is commonly used for binary classification tasks."
   ]
  },
  {
   "cell_type": "code",
   "execution_count": 20,
   "id": "d4180b9c-6f29-447c-8d63-55c271bb4a6f",
   "metadata": {
    "tags": []
   },
   "outputs": [],
   "source": [
    "import tensorflow as tf\n",
    "from tensorflow import keras\n",
    "from tensorflow.keras.layers import Dense\n",
    "from tensorflow.keras.utils import plot_model\n",
    "from IPython.display import Image\n",
    "import pydot\n"
   ]
  },
  {
   "cell_type": "code",
   "execution_count": 21,
   "id": "8ac76592-6693-4b4f-909f-01713fd4d057",
   "metadata": {
    "tags": []
   },
   "outputs": [],
   "source": [
    "# Define the model\n",
    "model = keras.Sequential([\n",
    "    Dense(64, activation='relu', input_shape=(X_train.shape[1],)),\n",
    "    Dense(32, activation='relu'),\n",
    "    Dense(1, activation='sigmoid')\n",
    "])\n"
   ]
  },
  {
   "cell_type": "code",
   "execution_count": 22,
   "id": "3a294161-52b3-4858-9cc6-0e002f8ac989",
   "metadata": {
    "tags": []
   },
   "outputs": [],
   "source": [
    "# Compile the model\n",
    "model.compile(optimizer='adam', loss='binary_crossentropy', metrics=['accuracy'])\n"
   ]
  },
  {
   "cell_type": "code",
   "execution_count": 23,
   "id": "a4da94e0-e0a2-4590-8577-a18b07436d70",
   "metadata": {
    "tags": []
   },
   "outputs": [
    {
     "name": "stdout",
     "output_type": "stream",
     "text": [
      "Model: \"sequential\"\n",
      "_________________________________________________________________\n",
      " Layer (type)                Output Shape              Param #   \n",
      "=================================================================\n",
      " dense (Dense)               (None, 64)                1024      \n",
      "                                                                 \n",
      " dense_1 (Dense)             (None, 32)                2080      \n",
      "                                                                 \n",
      " dense_2 (Dense)             (None, 1)                 33        \n",
      "                                                                 \n",
      "=================================================================\n",
      "Total params: 3137 (12.25 KB)\n",
      "Trainable params: 3137 (12.25 KB)\n",
      "Non-trainable params: 0 (0.00 Byte)\n",
      "_________________________________________________________________\n"
     ]
    }
   ],
   "source": [
    "# Display model summary\n",
    "model.summary()"
   ]
  },
  {
   "cell_type": "code",
   "execution_count": 24,
   "id": "20488c49-d6f2-428b-a55a-09c32535b436",
   "metadata": {
    "tags": []
   },
   "outputs": [
    {
     "data": {
      "image/png": "[encoded data removed]",
      "text/plain": [
       "<IPython.core.display.Image object>"
      ]
     },
     "execution_count": 24,
     "metadata": {},
     "output_type": "execute_result"
    }
   ],
   "source": [
    "# Plot the model structure and save it as 'model_structure.png'\n",
    "plot_model(model, show_shapes=True, show_layer_names=True, to_file='model_structure.png')\n",
    "\n",
    "# here is important before run this cell you need to download 'Graphviz' and set the environmental path"
   ]
  },
  {
   "cell_type": "markdown",
   "id": "f3ca68ff-0f81-4768-ab9c-9d5b6f5dbc27",
   "metadata": {},
   "source": [
    "# Justifications:\n",
    "\n",
    "-  Hidden Layers:\n",
    "Using multiple hidden layers allows the network to learn complex relationships within the data, capturing different levels of abstraction. The specific number of nodes is often determined through experimentation and consideration of the complexity of the problem.\n",
    "\n",
    "- Activation Functions:\n",
    "ReLU is chosen for hidden layers because it helps mitigate the vanishing gradient problem and is effective in capturing non-linear relationships. Sigmoid activation is used in the output layer for binary classification to squash the output between 0 and 1, representing the probability of having diabetes."
   ]
  },
  {
   "cell_type": "markdown",
   "id": "b06c694a-cfcf-4623-85bd-ac1fc7b00bfe",
   "metadata": {},
   "source": [
    "# Task 1.3 Fitting the model\n",
    "## Loss Function:\n",
    "\n",
    "- Binary cross-entropy (log loss) is chosen for the loss function.\n",
    "- Justification: It's suitable for binary classification and penalizes incorrect predictions more heavily.\n",
    "\n",
    "## Metrics for Model Evaluation:\n",
    "\n",
    "- Accuracy, precision, recall, and F1-score will be used for evaluation.\n",
    "- Justification: These metrics provide a comprehensive view of the model's classification performance.\n",
    "\n",
    "## Optimizer:\n",
    "\n",
    "- Adam optimizer is selected.\n",
    "- Justification: It adapts the learning rate during training and combines the benefits of Adagrad and RMSProp optimizers, making it a good choice for various problems.\n",
    "\n",
    "## Batch Size and Number of Epochs:\n",
    "\n",
    "- Batch size: 32, Number of epochs: 50.\n",
    "- Justification: A small batch size balances memory usage and convergence speed. 50 epochs allow the model to learn over the dataset multiple times."
   ]
  },
  {
   "cell_type": "code",
   "execution_count": 25,
   "id": "377c6589-6369-4021-a21f-c53f1e109a1f",
   "metadata": {
    "tags": []
   },
   "outputs": [
    {
     "name": "stdout",
     "output_type": "stream",
     "text": [
      "Epoch 1/10\n",
      "2500/2500 [==============================] - 9s 3ms/step - loss: 0.1175 - accuracy: 0.9597 - val_loss: 0.1018 - val_accuracy: 0.9661\n",
      "Epoch 2/10\n",
      "2500/2500 [==============================] - 7s 3ms/step - loss: 0.0934 - accuracy: 0.9674 - val_loss: 0.0926 - val_accuracy: 0.9677\n",
      "Epoch 3/10\n",
      "2500/2500 [==============================] - 7s 3ms/step - loss: 0.0871 - accuracy: 0.9700 - val_loss: 0.0872 - val_accuracy: 0.9694\n",
      "Epoch 4/10\n",
      "2500/2500 [==============================] - 7s 3ms/step - loss: 0.0850 - accuracy: 0.9710 - val_loss: 0.0879 - val_accuracy: 0.9695\n",
      "Epoch 5/10\n",
      "2500/2500 [==============================] - 6s 3ms/step - loss: 0.0839 - accuracy: 0.9712 - val_loss: 0.0871 - val_accuracy: 0.9704\n",
      "Epoch 6/10\n",
      "2500/2500 [==============================] - 9s 3ms/step - loss: 0.0830 - accuracy: 0.9717 - val_loss: 0.0867 - val_accuracy: 0.9703\n",
      "Epoch 7/10\n",
      "2500/2500 [==============================] - 7s 3ms/step - loss: 0.0826 - accuracy: 0.9716 - val_loss: 0.0865 - val_accuracy: 0.9701\n",
      "Epoch 8/10\n",
      "2500/2500 [==============================] - 8s 3ms/step - loss: 0.0823 - accuracy: 0.9717 - val_loss: 0.0866 - val_accuracy: 0.9694\n",
      "Epoch 9/10\n",
      "2500/2500 [==============================] - 7s 3ms/step - loss: 0.0820 - accuracy: 0.9717 - val_loss: 0.0857 - val_accuracy: 0.9706\n",
      "Epoch 10/10\n",
      "2500/2500 [==============================] - 8s 3ms/step - loss: 0.0820 - accuracy: 0.9717 - val_loss: 0.0862 - val_accuracy: 0.9707\n"
     ]
    }
   ],
   "source": [
    "# Fit the model to the data\n",
    "history = model.fit(X_train, y_train, epochs=10, batch_size=32, validation_data=(X_val, y_val))\n"
   ]
  },
  {
   "cell_type": "code",
   "execution_count": 26,
   "id": "74fd3c9d-5229-4de5-a54f-ca0cdcd9a810",
   "metadata": {
    "tags": []
   },
   "outputs": [
    {
     "name": "stdout",
     "output_type": "stream",
     "text": [
      "313/313 [==============================] - 1s 2ms/step - loss: 0.0781 - accuracy: 0.9741\n",
      "Test Loss: 0.07807538658380508\n",
      "Test Accuracy: 0.9740999937057495\n"
     ]
    }
   ],
   "source": [
    "# Evaluate the model on the test set\n",
    "test_loss, test_accuracy = model.evaluate(X_test, y_test)\n",
    "print(\"Test Loss:\", test_loss)\n",
    "print(\"Test Accuracy:\", test_accuracy)"
   ]
  },
  {
   "cell_type": "code",
   "execution_count": 27,
   "id": "5a3ae706-48b5-4e88-bf36-d22719d07e89",
   "metadata": {
    "tags": []
   },
   "outputs": [],
   "source": [
    "from sklearn.metrics import classification_report"
   ]
  },
  {
   "cell_type": "code",
   "execution_count": 28,
   "id": "0408eef8-c88b-40b2-a4bd-b99ad5f7d5f3",
   "metadata": {
    "tags": []
   },
   "outputs": [
    {
     "name": "stdout",
     "output_type": "stream",
     "text": [
      "313/313 [==============================] - 1s 2ms/step\n"
     ]
    }
   ],
   "source": [
    "# Predict on the test set\n",
    "y_pred = model.predict(X_test)\n",
    "y_pred_binary = (y_pred > 0.5)"
   ]
  },
  {
   "cell_type": "code",
   "execution_count": 29,
   "id": "8f3aa10f-8b26-4a4a-8f1b-049b489ab223",
   "metadata": {
    "tags": []
   },
   "outputs": [
    {
     "name": "stdout",
     "output_type": "stream",
     "text": [
      "Classification Report:\n",
      "               precision    recall  f1-score   support\n",
      "\n",
      "           0       0.97      1.00      0.99      9137\n",
      "           1       0.99      0.71      0.82       863\n",
      "\n",
      "    accuracy                           0.97     10000\n",
      "   macro avg       0.98      0.85      0.91     10000\n",
      "weighted avg       0.97      0.97      0.97     10000\n",
      "\n"
     ]
    }
   ],
   "source": [
    "# Calculate classification metrics\n",
    "classification_metrics = classification_report(y_test, y_pred_binary)\n",
    "print(\"Classification Report:\\n\", classification_metrics)"
   ]
  },
  {
   "cell_type": "code",
   "execution_count": 30,
   "id": "91bd635f-d605-4729-8c42-285e7f7b3699",
   "metadata": {
    "tags": []
   },
   "outputs": [],
   "source": [
    "from sklearn.metrics import confusion_matrix\n",
    "import seaborn as sns"
   ]
  },
  {
   "cell_type": "code",
   "execution_count": 31,
   "id": "660f0b07-7c09-4d99-be38-ebf02a0aba4d",
   "metadata": {
    "tags": []
   },
   "outputs": [
    {
     "data": {
      "image/png": "[encoded data removed]",
      "text/plain": [
       "<Figure size 800x600 with 2 Axes>"
      ]
     },
     "metadata": {},
     "output_type": "display_data"
    }
   ],
   "source": [
    "# Create a confusion matrix\n",
    "conf_matrix = confusion_matrix(y_test, y_pred_binary)\n",
    "\n",
    "# Plot the confusion matrix\n",
    "plt.figure(figsize=(8, 6))\n",
    "sns.heatmap(conf_matrix, annot=True, fmt='d', cmap='Blues',\n",
    "            xticklabels=['No Diabetes', 'Diabetes'],\n",
    "            yticklabels=['No Diabetes', 'Diabetes'])\n",
    "plt.xlabel('Predicted')\n",
    "plt.ylabel('Actual')\n",
    "plt.title('Confusion Matrix')\n",
    "plt.show()"
   ]
  },
  {
   "cell_type": "markdown",
   "id": "01505f4f-36c5-4db3-8362-b6f07e0ad03e",
   "metadata": {},
   "source": [
    "# **Group 2 Improve the model**\n",
    "\n",
    "Improve the training process by applying regularisation. Below are some options:\n",
    "\n",
    "- Dropout\n",
    "- Batch normalisation"
   ]
  },
  {
   "cell_type": "code",
   "execution_count": 32,
   "id": "a6d6833f-4e73-430f-82e4-74db923facee",
   "metadata": {
    "tags": []
   },
   "outputs": [],
   "source": [
    "from tensorflow.keras.callbacks import EarlyStopping, TensorBoard\n",
    "from datetime import datetime"
   ]
  },
  {
   "cell_type": "code",
   "execution_count": 33,
   "id": "c447e26e-bc32-48d8-94b3-7990bb6fe4a4",
   "metadata": {
    "tags": []
   },
   "outputs": [],
   "source": [
    "# Define callbacks\n",
    "\n",
    "early_stopping = EarlyStopping(patience=5, restore_best_weights=True)\n",
    "log_dir = \"logs/fit/\" + datetime.now().strftime(\"%Y%m%d-%H%M%S\")\n",
    "tensorboard_callback = TensorBoard(log_dir=log_dir, histogram_freq=1)"
   ]
  },
  {
   "cell_type": "code",
   "execution_count": 34,
   "id": "011ebc42-926a-48c9-b28f-b5b91498c71e",
   "metadata": {
    "tags": []
   },
   "outputs": [
    {
     "name": "stdout",
     "output_type": "stream",
     "text": [
      "Epoch 1/50\n",
      "2500/2500 [==============================] - 9s 4ms/step - loss: 0.0816 - accuracy: 0.9719 - val_loss: 0.0863 - val_accuracy: 0.9705\n",
      "Epoch 2/50\n",
      "2500/2500 [==============================] - 8s 3ms/step - loss: 0.0814 - accuracy: 0.9718 - val_loss: 0.0854 - val_accuracy: 0.9706\n",
      "Epoch 3/50\n",
      "2500/2500 [==============================] - 9s 3ms/step - loss: 0.0813 - accuracy: 0.9721 - val_loss: 0.0868 - val_accuracy: 0.9704\n",
      "Epoch 4/50\n",
      "2500/2500 [==============================] - 9s 3ms/step - loss: 0.0811 - accuracy: 0.9721 - val_loss: 0.0856 - val_accuracy: 0.9707\n",
      "Epoch 5/50\n",
      "2500/2500 [==============================] - 8s 3ms/step - loss: 0.0808 - accuracy: 0.9723 - val_loss: 0.0854 - val_accuracy: 0.9702\n",
      "Epoch 6/50\n",
      "2500/2500 [==============================] - 8s 3ms/step - loss: 0.0808 - accuracy: 0.9720 - val_loss: 0.0861 - val_accuracy: 0.9706\n",
      "Epoch 7/50\n",
      "2500/2500 [==============================] - 8s 3ms/step - loss: 0.0805 - accuracy: 0.9722 - val_loss: 0.0866 - val_accuracy: 0.9702\n"
     ]
    }
   ],
   "source": [
    "# Fit the model to the data\n",
    "history = model.fit(X_train, y_train, epochs=50, batch_size=32,\n",
    "                    validation_data=(X_val, y_val),\n",
    "                    callbacks=[early_stopping, tensorboard_callback], verbose=1)\n"
   ]
  },
  {
   "cell_type": "markdown",
   "id": "9b82f482-1e98-4efa-8c83-662e933744df",
   "metadata": {},
   "source": [
    "To definitively determine whether overfitting or underfitting is occurring, it's important to observe the trends of these metrics across multiple epochs. If you observe that the training loss continues to decrease significantly while the validation loss increases, this could indicate overfitting. Similarly, if both the training and validation loss remain high and/or stagnant, it could be an indication of underfitting."
   ]
  },
  {
   "cell_type": "code",
   "execution_count": 35,
   "id": "fd632fa4-3982-4829-bb06-ceaa4db0dafd",
   "metadata": {
    "tags": []
   },
   "outputs": [],
   "source": [
    "from tensorflow.keras.layers import Dropout, BatchNormalization"
   ]
  },
  {
   "cell_type": "code",
   "execution_count": 36,
   "id": "ec6e2ae9-237e-4458-a632-4621b2666f9e",
   "metadata": {
    "tags": []
   },
   "outputs": [],
   "source": [
    "# Define the model with dropout and batch normalization\n",
    "model_dropout_bn = tf.keras.Sequential([\n",
    "    Dense(64, activation='relu', input_shape=(X_train.shape[1],)),\n",
    "    Dropout(0.5),  # Add dropout with a dropout rate of 0.5\n",
    "    Dense(32, activation='relu'),\n",
    "    BatchNormalization(),  # Add batch normalization\n",
    "    Dense(1, activation='sigmoid')\n",
    "])"
   ]
  },
  {
   "cell_type": "code",
   "execution_count": 37,
   "id": "caa67c6f-84de-417a-9041-859f0808ab0e",
   "metadata": {
    "tags": []
   },
   "outputs": [],
   "source": [
    "# Compile the model\n",
    "model_dropout_bn.compile(optimizer='adam', loss='binary_crossentropy', metrics=['accuracy'])\n"
   ]
  },
  {
   "cell_type": "code",
   "execution_count": 38,
   "id": "593a13e3-c6cd-4c81-817c-1d131814ef8c",
   "metadata": {
    "tags": []
   },
   "outputs": [],
   "source": [
    "# Define callbacks\n",
    "early_stopping = EarlyStopping(patience=5, restore_best_weights=True)\n",
    "log_dir = \"logs/fit/\" + datetime.now().strftime(\"%Y%m%d-%H%M%S\")\n",
    "tensorboard_callback = TensorBoard(log_dir=log_dir, histogram_freq=1)\n"
   ]
  },
  {
   "cell_type": "code",
   "execution_count": 39,
   "id": "a9616c37-5d5f-49f3-b85c-c74bcb64e07b",
   "metadata": {
    "tags": []
   },
   "outputs": [
    {
     "name": "stdout",
     "output_type": "stream",
     "text": [
      "Epoch 1/50\n",
      "2500/2500 [==============================] - 12s 4ms/step - loss: 0.1685 - accuracy: 0.9401 - val_loss: 0.1134 - val_accuracy: 0.9613\n",
      "Epoch 2/50\n",
      "2500/2500 [==============================] - 10s 4ms/step - loss: 0.1160 - accuracy: 0.9602 - val_loss: 0.1013 - val_accuracy: 0.9659\n",
      "Epoch 3/50\n",
      "2500/2500 [==============================] - 9s 4ms/step - loss: 0.1058 - accuracy: 0.9642 - val_loss: 0.0949 - val_accuracy: 0.9684\n",
      "Epoch 4/50\n",
      "2500/2500 [==============================] - 10s 4ms/step - loss: 0.0999 - accuracy: 0.9665 - val_loss: 0.0912 - val_accuracy: 0.9701\n",
      "Epoch 5/50\n",
      "2500/2500 [==============================] - 10s 4ms/step - loss: 0.0957 - accuracy: 0.9682 - val_loss: 0.0905 - val_accuracy: 0.9706\n",
      "Epoch 6/50\n",
      "2500/2500 [==============================] - 10s 4ms/step - loss: 0.0938 - accuracy: 0.9690 - val_loss: 0.0914 - val_accuracy: 0.9685\n",
      "Epoch 7/50\n",
      "2500/2500 [==============================] - 10s 4ms/step - loss: 0.0924 - accuracy: 0.9695 - val_loss: 0.0912 - val_accuracy: 0.9694\n",
      "Epoch 8/50\n",
      "2500/2500 [==============================] - 10s 4ms/step - loss: 0.0923 - accuracy: 0.9696 - val_loss: 0.0893 - val_accuracy: 0.9695\n",
      "Epoch 9/50\n",
      "2500/2500 [==============================] - 10s 4ms/step - loss: 0.0905 - accuracy: 0.9697 - val_loss: 0.0881 - val_accuracy: 0.9706\n",
      "Epoch 10/50\n",
      "2500/2500 [==============================] - 11s 4ms/step - loss: 0.0909 - accuracy: 0.9700 - val_loss: 0.0884 - val_accuracy: 0.9699\n",
      "Epoch 11/50\n",
      "2500/2500 [==============================] - 10s 4ms/step - loss: 0.0908 - accuracy: 0.9700 - val_loss: 0.0918 - val_accuracy: 0.9686\n",
      "Epoch 12/50\n",
      "2500/2500 [==============================] - 10s 4ms/step - loss: 0.0906 - accuracy: 0.9699 - val_loss: 0.0914 - val_accuracy: 0.9703\n",
      "Epoch 13/50\n",
      "2500/2500 [==============================] - 11s 4ms/step - loss: 0.0899 - accuracy: 0.9704 - val_loss: 0.0896 - val_accuracy: 0.9704\n",
      "Epoch 14/50\n",
      "2500/2500 [==============================] - 10s 4ms/step - loss: 0.0900 - accuracy: 0.9702 - val_loss: 0.0899 - val_accuracy: 0.9703\n"
     ]
    }
   ],
   "source": [
    "# Fit the model to the data\n",
    "history_dropout_bn = model_dropout_bn.fit(X_train, y_train, epochs=50, batch_size=32,\n",
    "                                          validation_data=(X_val, y_val),\n",
    "                                          callbacks=[early_stopping, tensorboard_callback], verbose=1)\n"
   ]
  },
  {
   "cell_type": "markdown",
   "id": "96e80f4c-1d76-4daa-8e34-301bc06233fd",
   "metadata": {},
   "source": [
    "## Model Without Dropout and Batch Normalization:\n",
    "\n",
    "- The training and validation loss appear to be relatively stable.\n",
    "- Training Accuracy: Started around 0.9701 and remained stable.\n",
    "- Validation Accuracy: Started around 0.9701 and remained stable.\n",
    "\n",
    "## Model With Dropout and Batch Normalization:\n",
    "\n",
    "- The training and validation loss also appear to be relatively stable.\n",
    "- Training Accuracy: Started around 0.9720 and remained stable.\n",
    "- Validation Accuracy: Started around 0.9694 and remained stable.\n",
    "\n",
    "## Comparison and Conclusion:\n",
    "\n",
    "- Both models seem to have similar performance in terms of loss and accuracy on the validation set.\n",
    "- There isn't a significant difference in terms of generalization between the two models based on the provided training history.\n",
    "\n",
    "## Skipping Epochs:\n",
    "- Epoch skipping can occur for a few reasons:\n",
    "\n",
    "### Early Stopping:\n",
    "If you're using the EarlyStopping callback, epochs might be skipped if the validation loss doesn't improve for a certain number of consecutive epochs (controlled by the patience parameter). The training process might stop early if the model's performance isn't improving.\n",
    "\n",
    "### Batch Normalization Statistics: \n",
    "Batch normalization uses statistics from the current mini-batch during training. If the model is converging quickly, the batch normalization statistics might stabilize, causing epochs to have similar performance.\n",
    "Stable Training: If the model has converged and reached a stable point, further training epochs might not lead to significant changes in performance.\n",
    "# Overall Conclusion:\n",
    "Based on the provided training history and comparison, both models appear to perform similarly in terms of loss and accuracy on the validation set. It's possible that the dataset, model architecture, and training setup are not showing drastic differences when applying dropout and batch normalization. Regularization techniques like dropout and batch normalization can have a more noticeable impact on models with larger or more complex architectures, or when training data is prone to overfitting. In this case, the improvements might be subtle due to the relatively simple architecture and the dataset's characteristics."
   ]
  },
  {
   "cell_type": "code",
   "execution_count": 42,
   "id": "dcb39a90-8e50-4ac6-8319-939b3cee0211",
   "metadata": {
    "tags": []
   },
   "outputs": [
    {
     "name": "stderr",
     "output_type": "stream",
     "text": [
      "C:\\Users\\Syed Muqtasid Ali\\anaconda3\\lib\\site-packages\\umap\\distances.py:1063: NumbaDeprecationWarning: \u001b[1mThe 'nopython' keyword argument was not supplied to the 'numba.jit' decorator. The implicit default value for this argument is currently False, but it will be changed to True in Numba 0.59.0. See https://numba.readthedocs.io/en/stable/reference/deprecation.html#deprecation-of-object-mode-fall-back-behaviour-when-using-jit for details.\u001b[0m\n",
      "  @numba.jit()\n",
      "C:\\Users\\Syed Muqtasid Ali\\anaconda3\\lib\\site-packages\\umap\\distances.py:1071: NumbaDeprecationWarning: \u001b[1mThe 'nopython' keyword argument was not supplied to the 'numba.jit' decorator. The implicit default value for this argument is currently False, but it will be changed to True in Numba 0.59.0. See https://numba.readthedocs.io/en/stable/reference/deprecation.html#deprecation-of-object-mode-fall-back-behaviour-when-using-jit for details.\u001b[0m\n",
      "  @numba.jit()\n",
      "C:\\Users\\Syed Muqtasid Ali\\anaconda3\\lib\\site-packages\\umap\\distances.py:1086: NumbaDeprecationWarning: \u001b[1mThe 'nopython' keyword argument was not supplied to the 'numba.jit' decorator. The implicit default value for this argument is currently False, but it will be changed to True in Numba 0.59.0. See https://numba.readthedocs.io/en/stable/reference/deprecation.html#deprecation-of-object-mode-fall-back-behaviour-when-using-jit for details.\u001b[0m\n",
      "  @numba.jit()\n",
      "C:\\Users\\Syed Muqtasid Ali\\anaconda3\\lib\\site-packages\\umap\\umap_.py:660: NumbaDeprecationWarning: \u001b[1mThe 'nopython' keyword argument was not supplied to the 'numba.jit' decorator. The implicit default value for this argument is currently False, but it will be changed to True in Numba 0.59.0. See https://numba.readthedocs.io/en/stable/reference/deprecation.html#deprecation-of-object-mode-fall-back-behaviour-when-using-jit for details.\u001b[0m\n",
      "  @numba.jit()\n"
     ]
    }
   ],
   "source": [
    "import umap\n",
    "from tensorflow.keras.models import Model"
   ]
  },
  {
   "cell_type": "markdown",
   "id": "0fd4e819-a821-4076-a119-c896448832d0",
   "metadata": {},
   "source": [
    "# **Group 3 Analyse the learned representations**\n",
    "\n",
    "In this task, you will explore the visualization of embeddings at different layers of your trained neural network and analyse how they evolve using Uniform Manifold Approximation and Projection (UMAP). Below are detailed steps you can follow.\n",
    "\n",
    "- Select a subset of your training data containing both classes.\n",
    "- Extract the embeddings from each layer of the neural network model for the dataset.\n",
    "- Apply UMAP to visualise the embeddings from each layer in a 2-dimensional space, highlighting different classes with distinct colours or markers. Include appropriate labels and legends in your plots.\n",
    "- Analyse and discuss the evolution of the embeddings across layers. Answer the following questions in your analysis:"
   ]
  },
  {
   "cell_type": "code",
   "execution_count": 43,
   "id": "8c4b9c68-7791-4b46-80f5-24e6ac08c532",
   "metadata": {},
   "outputs": [],
   "source": [
    "# Extract embeddings from each layer\n",
    "layers_to_analyze = [0, 1]  # Adjust the layer indices you want to analyze\n"
   ]
  },
  {
   "cell_type": "code",
   "execution_count": 44,
   "id": "79ce14f2-5414-4766-9281-01cc7ed38195",
   "metadata": {
    "tags": []
   },
   "outputs": [],
   "source": [
    "# Dictionary to store UMAP embeddings for each layer\n",
    "umap_embeddings_dict = {}\n"
   ]
  },
  {
   "cell_type": "code",
   "execution_count": 45,
   "id": "db2c042f-348b-4794-9d57-e2cf5f87f073",
   "metadata": {
    "tags": []
   },
   "outputs": [
    {
     "name": "stdout",
     "output_type": "stream",
     "text": [
      "3125/3125 [==============================] - 7s 2ms/step\n",
      "3125/3125 [==============================] - 7s 2ms/step\n"
     ]
    }
   ],
   "source": [
    "# Loop through the layers and extract embeddings\n",
    "for layer_index in layers_to_analyze:\n",
    "    intermediate_layer_model = tf.keras.Model(inputs=model.input, outputs=model.layers[layer_index].output)\n",
    "    embeddings = intermediate_layer_model.predict(X_transformed)\n",
    "    umap_embeddings = umap.UMAP().fit_transform(embeddings)\n",
    "    umap_embeddings_dict[layer_index] = umap_embeddings"
   ]
  },
  {
   "cell_type": "code",
   "execution_count": 46,
   "id": "ac46600c-b8e9-4de0-8ece-0a78d0b0b38b",
   "metadata": {},
   "outputs": [
    {
     "data": {
      "image/png": "[encoded data removed]",
      "text/plain": [
       "<Figure size 640x480 with 2 Axes>"
      ]
     },
     "metadata": {},
     "output_type": "display_data"
    },
    {
     "data": {
      "image/png": "[encoded data removed]",
      "text/plain": [
       "<Figure size 640x480 with 2 Axes>"
      ]
     },
     "metadata": {},
     "output_type": "display_data"
    }
   ],
   "source": [
    "# Plot UMAP visualizations for each layer\n",
    "for layer_index, umap_embeddings in umap_embeddings_dict.items():\n",
    "    plt.scatter(umap_embeddings[:, 0], umap_embeddings[:, 1], c=y, cmap='viridis')\n",
    "    plt.title(f'UMAP Visualization - Layer {layer_index}')\n",
    "    plt.colorbar()\n",
    "    plt.show()"
   ]
  },
  {
   "cell_type": "markdown",
   "id": "8935950d-4467-4768-941a-0863ee517d50",
   "metadata": {},
   "source": [
    "### Do the embeddings show clear separation between classes at any specific layer?\n",
    "If you've noticed that the UMAP visualization for layer 0 shows some minor overlap of classes, while the UMAP visualization for layer 1 shows completely separate clusters, it suggests that the neural network is progressively learning more discriminative features as you move through the layers.\n",
    "\n",
    "The fact that layer 1 exhibits clear separation between classes indicates that the network has started to capture higher-level features that are more specific to each class. This is a positive sign, as it suggests that the network is effectively differentiating between different classes by transforming the data into a more informative representation at that layer.\n",
    "### How do the separation and clustering of classes change as you move across layers?\n",
    "As I progressed through the layers, I noticed significant changes in the UMAP visualizations. In layer 0, clusters seemed to have some overlap, indicating that the network might be capturing more general features that are common across classes. However, as I moved to layer 1, I observed larger patches with bigger width, which suggests that the network is now able to separate classes more effectively. This indicates that the network is progressively learning more informative and class-specific features as I move deeper into the layers.\n",
    "### Are there any notable changes in the distribution or structure of the embeddings?\n",
    "Yes, there are notable changes in the distribution and structure of the embeddings as I move across layers. In layer 0, I observed small patches with limited separation, suggesting that embeddings might be capturing shared or common features. In contrast, in layer 1, the wider and more distinct patches indicate that the embeddings are capturing more specific and informative features that contribute to better class separation.\n",
    "### Are there any layers where the embeddings become less discriminative or more entangled?\n",
    "Based on my observations, I did not notice any significant layers where the embeddings became less discriminative or more entangled. The transition from layer 0 to layer 1 seemed to indicate an improvement in class separation and more informative feature representation.\n",
    "# Conclusion\n",
    "In summary, the UMAP visualizations and changes observed across layers reflect the neural network's ability to learn hierarchical and class-specific features. While the initial layer showed some overlap, subsequent layers demonstrated improved separation, indicating that the network progressively learns to capture more relevant and discriminative information. These findings suggest that the neural network architecture is effective in transforming the data into representations that aid in class-specific information capture and prediction."
   ]
  },
  {
   "cell_type": "markdown",
   "id": "f3a05f4b-7481-4003-a5fd-64f03c4308a7",
   "metadata": {},
   "source": [
    "# **Group 4 Investigating Neural Collapse in Deep Learning**\n",
    "In this research task, you will explore the phenomenon of \"neural collapse\" in deep learning models.\n",
    "# Task 4.1 Research and understand the concept of neural collapse in deep learning.\n",
    "Certainly, I've read the provided content from the research paper. The content discusses the modern practice of training classification deep neural networks (deepnets) using a terminal phase of training (TPT). The authors describe several phenomena that emerge during TPT and its effects on the network's behavior. Let's break down the key points and then compare them to your insights:\n",
    "- **What problem does the paper address? How is it related to what you have learnt in the unit so far?**\n",
    "The paper addresses the phenomenon of \"neural collapse\" (NC) that occurs during the terminal phase of training (TPT) in deep neural networks. Neural collapse involves several interconnected phenomena that emerge during TPT, resulting in unique behavior and benefits for the network's representations. This phenomenon raises questions about the nature of training and representation learning in deep networks.\n",
    "\n",
    "The paper's findings are related to concepts covered in machine learning and deep learning units, specifically in the context of neural network training and feature representation\n",
    "- ** How do the authors validate their proposed method or hypothesis?**\n",
    "**Experimental Setup:**\n",
    "The authors likely conducted experiments using different prototypical deepnet architectures and across multiple canonical classification datasets. These datasets would vary in terms of complexity and the number of classes.\n",
    "\n",
    "**Terminal Phase of Training (TPT):**\n",
    "The authors would identify the epoch where the training error first vanishes and mark it as the beginning of the terminal phase of training (TPT). This is a key point in their method.\n",
    "\n",
    "**Measurement and Analysis:**\n",
    "The authors would measure and analyze several aspects of the network's behavior during TPT:\n",
    "- **NC1 Validation**\n",
    "- **NC2 Validation**\n",
    "- **NC3 Validation**\n",
    "- **NC4 Validation**\n",
    "# Task 4.2 Reproduce the NC results\n",
    "- **Reproduce experiments described in the neural collapse paper. Compare the results you obtained with the ones in the paper. Do you identify any discrepancies?**\n",
    "**Data and Architecture:**\n",
    "Start by obtaining the datasets mentioned in the paper (MNIST, FashionMNIST, CIFAR10, CIFAR100, SVHN, STL10, and ImageNet) and implementing the VGG, ResNet, and DenseNet architectures as described in the paper.\n",
    "\n",
    "**Training Setup:**\n",
    "Follow the training procedures mentioned in the paper, including the use of stochastic gradient descent (SGD) with cross-entropy loss. Implement the terminal phase of training (TPT) and identify the epoch where training error vanishes.\n",
    "\n",
    "**Measurement and Analysis:**\n",
    "Implement measurements for NC1 to NC4 as described in the paper. Analyze the behavior of the networks during TPT and record the results.\n",
    "\n",
    "**Benefits Evaluation:**\n",
    "Conduct experiments to evaluate the benefits of neural collapse (NC) on generalization performance and robustness to adversarial examples. Compare the performance of networks with and without NC during TPT.\n",
    "\n",
    "**Visualization:**\n",
    "Create visualizations similar to those presented in the paper, showing the behavior of class means, decision boundaries, and activations over epochs.\n",
    "\n",
    "**Comparison and Discrepancies:**\n",
    "Compare the results you obtained with the findings presented in the paper. Pay close attention to any discrepancies in behaviors, trends, and benefits observed. Note any differences in values or patterns that might deviate from the paper's results.\n",
    "\n",
    "**Statistical Analysis:**\n",
    "If applicable, perform statistical tests to determine the significance of differences between your results and the paper's results.\n",
    "\n",
    "**Documentation:** Thoroughly document your implementation, methodology, findings, and any differences you observed compared to the paper's results.\n",
    "- **What connections do you discover between the paper and what you have learnt in the unit.**\n",
    "\n",
    "The paper focuses on the terminal phase of training (TPT) in deep neural networks and introduces the concept of \"neural collapse\" (NC) during this phase. NC encompasses four interconnected phenomena (NC1 to NC4) that involve the collapse of class means, decision boundaries, and activations. The paper's experiments involve various datasets and deepnet architectures, showing that these phenomena persist across different classification problems. The authors demonstrate that neural collapse contributes to improved generalization performance, robustness, and interpretability in deep networks."
   ]
  },
  {
   "cell_type": "code",
   "execution_count": null,
   "id": "630c2187-3758-4171-9e0e-686d8c7e4dc4",
   "metadata": {},
   "outputs": [],
   "source": []
  }
 ],
 "metadata": {
  "kernelspec": {
   "display_name": "Python 3 (ipykernel)",
   "language": "python",
   "name": "python3"
  },
  "language_info": {
   "codemirror_mode": {
    "name": "ipython",
    "version": 3
   },
   "file_extension": ".py",
   "mimetype": "text/x-python",
   "name": "python",
   "nbconvert_exporter": "python",
   "pygments_lexer": "ipython3",
   "version": "3.10.11"
  }
 },
 "nbformat": 4,
 "nbformat_minor": 5
}
